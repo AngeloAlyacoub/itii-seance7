{
 "cells": [
  {
   "cell_type": "markdown",
   "metadata": {},
   "source": [
    "En utilisant numpy:"
   ]
  },
  {
   "cell_type": "markdown",
   "metadata": {},
   "source": [
    "Ex 1 :Addition\n",
    "Écrire un programme pour lire les éléments de deux matrices et ajoutez les deux matrices dans la troisième.\n",
    "\n",
    "La somme de deux matrices de taille (m,n), $(A_{ij}) et (B_{ij}) notée $A+B$  est à nouveau une matrice (C_{ij}) de taille (m,n), obtenue en additionnant les éléments correspondants: $c_{ij}=a_{ij}+b_{ij}$\n"
   ]
  },
  {
   "cell_type": "code",
   "execution_count": 30,
   "metadata": {},
   "outputs": [
    {
     "name": "stdout",
     "output_type": "stream",
     "text": [
      "[[3 3 3]\n",
      " [3 3 3]]\n",
      "[[3 3 3]\n",
      " [3 3 3]]\n"
     ]
    }
   ],
   "source": [
    "import numpy as np\n",
    "\n",
    "def additionNP(a,b):\n",
    "    if(np.shape(a)==np.shape(b)):\n",
    "        return a + b\n",
    "    else:\n",
    "        print(\"Matrices de formes différentes\")\n",
    "        \n",
    "def addition(a, b):\n",
    "    shapeA = np.shape(a)\n",
    "    if(shapeA==np.shape(b)):\n",
    "        for i in range(shapeA[0]):\n",
    "            for j in range(shapeA[1]):\n",
    "                a[i,j] += b[i, j]\n",
    "    return a\n",
    "        \n",
    "a = np.array([[1, 1, 1], [2, 2, 2]])\n",
    "b = np.array([[2, 2, 2], [1, 1, 1]])\n",
    "\n",
    "print(additionNP(a, b))\n",
    "print(addition(a, b))"
   ]
  },
  {
   "cell_type": "markdown",
   "metadata": {},
   "source": [
    "Ex2 :Multiplication\n",
    "Écrire un programme pour lire les éléments de deux matrices, puis multipliez les deux matrices dans la troisième.\n",
    "\n",
    "Deux matrices ne peuvent être multipliées que si le nombre de colonnes de la première matrice est le même que le nombre de lignes de la seconde matrice.\n",
    "\n",
    "Si $ A=(a_{ij})$ est une matrice de taille (m,n), $ B=(b_{ij})$ et est une matrice de taille (n,p), alors leur produit, noté $AB=(c_{ij})$ est une matrice de taille (m,p) définie par :\n",
    "$$\\forall i,j : c_{ij}=\\sum_{k=i}^{n} a_{ik}*b_{kj}$$"
   ]
  },
  {
   "cell_type": "code",
   "execution_count": 42,
   "metadata": {},
   "outputs": [
    {
     "name": "stdout",
     "output_type": "stream",
     "text": [
      "[[6 6]\n",
      " [6 6]]\n",
      "[[6. 6.]\n",
      " [6. 6.]]\n",
      "[[18 18]\n",
      " [18 18]]\n",
      "[[18. 18.]\n",
      " [18. 18.]]\n",
      "[[0.95 0.05]\n",
      " [0.03 0.97]]\n",
      "[0.375 0.625]\n"
     ]
    }
   ],
   "source": [
    "import numpy as np\n",
    "\n",
    "def multiplicationNP(a,b):\n",
    "    if(np.shape(a)[1]==np.shape(b)[0]):\n",
    "        return np.dot(a, b)\n",
    "    else:\n",
    "        return \"Colonne de a ne correspond pas au lignes de b\"\n",
    "        \n",
    "def multiplication(a, b):\n",
    "    if(np.shape(a)[1]==np.shape(b)[0]):\n",
    "        tailleCommune = np.shape(a)[1]\n",
    "        li = np.shape(a)[0]\n",
    "        co = np.shape(b)[1]\n",
    "        c = np.zeros((li, co))\n",
    "        \n",
    "        for i in range(li):\n",
    "            for j in range(co):\n",
    "                for k in range(tailleCommune):\n",
    "                    c[i, j] += a[i, k] * b[k, j]\n",
    "        return c\n",
    "    else:\n",
    "        return \"Colonne de a ne correspond pas au lignes de b\"\n",
    "        \n",
    "a = np.array([[2, 2, 2], [2, 2, 2]])\n",
    "b = np.array([[1, 1], [1, 1], [1, 1]])\n",
    "c = np.array([[3, 3], [3, 3], [3, 3]])\n",
    "\n",
    "print(multiplicationNP(a, b))\n",
    "print(multiplication(a, b))\n",
    "\n",
    "print(multiplicationNP(a, c))\n",
    "print(multiplication(a, c))"
   ]
  },
  {
   "cell_type": "markdown",
   "metadata": {},
   "source": [
    "Ex 3: Matrice de Markov\n",
    "\n",
    "Une matrice de Markov est une matrice carrée dont chaque élément est un réel compris entre 0 et 1 et dont la somme des éléments de chaque ligne vaut 1. Cela correspond, en probabilité, à la matrice de transition d'une chaîne de Markov finie.\n",
    "\n",
    "Une matrice est dite bistochastique (ou doublement stochastique) si la somme des éléments de chaque ligne et de chaque colonne vaut 1.\n",
    "\n",
    "1. Ecrire une fonction eststochastique(P) qui permet de vérifier est ce que la matrice P est stochastique ou non\n",
    "2. Ecrire une fonction estbistochastique(P) qui permet de vérifier est ce que la matrice P est bistochastique ou non\n",
    "3. Ecrire une fonction vecteurstable(G, h) qui permet de vérifier est ce que h est un vecteur stable de G ou non\n",
    "\n"
   ]
  },
  {
   "cell_type": "code",
   "execution_count": 81,
   "metadata": {},
   "outputs": [
    {
     "name": "stdout",
     "output_type": "stream",
     "text": [
      "[[0.5 0.5]\n",
      " [0.5 0.5]]\n",
      "True\n",
      "True\n",
      "[[0.6 0.4]\n",
      " [0.6 0.4]]\n",
      "True\n",
      "False\n",
      "True\n"
     ]
    }
   ],
   "source": [
    "import numpy as np\n",
    "\n",
    "def eststochastique(p):\n",
    "    shape =np.shape(p)\n",
    "    for i in range(shape[0]):\n",
    "        somme = sum(p[i])\n",
    "        if(somme != 1):\n",
    "            return False\n",
    "    return True\n",
    "\n",
    "def estbistochastique(p):\n",
    "    shape =np.shape(p)\n",
    "    for i in range(shape[0]):\n",
    "        somme = sum(p[i])\n",
    "        if(somme != 1):\n",
    "            return False\n",
    "    for j in range(shape[1]):\n",
    "        somme = sum(p[:,j])\n",
    "        if(somme != 1):\n",
    "            return False\n",
    "    return True\n",
    "\n",
    "def multiplication(h, g):\n",
    "    if(np.size(h)==np.shape(g)[0]):\n",
    "        li = np.size(h)\n",
    "        co = np.shape(g)[1]\n",
    "        c = np.zeros(li)\n",
    "        \n",
    "        for i in range(li):\n",
    "            for j in range(li):\n",
    "                c[i] += h[j] * g[j, i]\n",
    "        return c\n",
    "    else:\n",
    "        return \"Colonne de a ne correspond pas au lignes de b\"\n",
    "\n",
    "def vecteurstable(g, h):\n",
    "    if(np.size(h) == np.shape(g)[1]):\n",
    "        if((h == multiplication(h, g)).all):\n",
    "            return True\n",
    "        return False\n",
    "    else:\n",
    "        return False\n",
    "\n",
    "m = np.array([[0.5, 0.5], [0.5, 0.5]])\n",
    "print(m)\n",
    "print(eststochastique(m))\n",
    "print(estbistochastique(m))\n",
    "\n",
    "n = np.array([[0.6, 0.4], [0.6, 0.4]])\n",
    "print(n)\n",
    "print(eststochastique(n))\n",
    "print(estbistochastique(n))\n",
    "\n",
    "g = np.array([[0.95, 0.05], [0.03, 0.97]])\n",
    "h = np.array([0.375, 0.625])\n",
    "print(vecteurstable(g,h))"
   ]
  },
  {
   "cell_type": "markdown",
   "metadata": {},
   "source": [
    "Ex 4: Transposer\n",
    "\n",
    "Programmer une fonction qui, étant donné une matrice à deux dimensions A, retourne lamatrice B dont la première colonne est la première ligne de A, la seconde la deuxième ligne de A, etc. B s’appelle la transposée de A."
   ]
  },
  {
   "cell_type": "code",
   "execution_count": 88,
   "metadata": {},
   "outputs": [
    {
     "name": "stdout",
     "output_type": "stream",
     "text": [
      "[[1 2 3]\n",
      " [1 2 3]]\n",
      "[[1 1]\n",
      " [2 2]\n",
      " [3 3]]\n",
      "[[1. 1.]\n",
      " [2. 2.]\n",
      " [3. 3.]]\n",
      "\n",
      "\n",
      "[[1 3 5]\n",
      " [2 4 6]]\n",
      "[[1 2]\n",
      " [3 4]\n",
      " [5 6]]\n",
      "[[1. 2.]\n",
      " [3. 4.]\n",
      " [5. 6.]]\n"
     ]
    }
   ],
   "source": [
    "import numpy as np\n",
    "\n",
    "def transposeNP(a):\n",
    "    return a.T\n",
    "\n",
    "def transpose(a):\n",
    "    shape = np.shape(a)\n",
    "    b = np.zeros((shape[1], shape[0]))\n",
    "    for i in range(shape[0]):\n",
    "        for j in range(shape[1]):\n",
    "            b[j, i] = a[i, j]\n",
    "    return b\n",
    "\n",
    "a = np.array([[1, 2, 3], [1, 2, 3]])\n",
    "print(a)\n",
    "print(transposeNP(a))\n",
    "print(transpose(a))\n",
    "\n",
    "print(\"\\n\")\n",
    "\n",
    "b = np.array([[1, 3, 5], [2, 4, 6]])\n",
    "print(b)\n",
    "print(transposeNP(b))\n",
    "print(transpose(b))"
   ]
  },
  {
   "cell_type": "markdown",
   "metadata": {},
   "source": [
    "Ex 5: Permutations\n",
    "1. $M$ désignant une matrice quelconque d’entiers à $l_i$ lignes et $co$ colonnes, $n$ un entier quelconque, programmer une fonction qui retourne la matrice $Sortie$ qui empile verticalement les $co+1$ matrices obtenues en adjoignant à $M$ une colonne $A$ à $li$ lignes dont tous les éléments sont égaux à $n$, $A$ étant placée d’abord devant $M$, puis entre la première et deuxième colonne de $M^a$,etc, jusqu’à ce que $A$ devienne sa dernière colonne. La matrice obtenue  aura $co+1$ colonnes et $(n+1)$ $li$ lignes\n",
    "\n",
    "2. Écrire toutes les permutations de(1, ..., n)"
   ]
  },
  {
   "cell_type": "code",
   "execution_count": null,
   "metadata": {},
   "outputs": [],
   "source": []
  }
 ],
 "metadata": {
  "kernelspec": {
   "display_name": "Python 3",
   "language": "python",
   "name": "python3"
  },
  "language_info": {
   "codemirror_mode": {
    "name": "ipython",
    "version": 3
   },
   "file_extension": ".py",
   "mimetype": "text/x-python",
   "name": "python",
   "nbconvert_exporter": "python",
   "pygments_lexer": "ipython3",
   "version": "3.7.6"
  }
 },
 "nbformat": 4,
 "nbformat_minor": 4
}
